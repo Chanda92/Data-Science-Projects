{
  "nbformat": 4,
  "nbformat_minor": 0,
  "metadata": {
    "colab": {
      "name": "Heart_disease_ Prediction.ipynb",
      "provenance": [],
      "authorship_tag": "ABX9TyOEAqHzob8gtaBqXB4Njvzr",
      "include_colab_link": true
    },
    "kernelspec": {
      "name": "python3",
      "display_name": "Python 3"
    },
    "accelerator": "TPU"
  },
  "cells": [
    {
      "cell_type": "markdown",
      "metadata": {
        "id": "view-in-github",
        "colab_type": "text"
      },
      "source": [
        "<a href=\"https://colab.research.google.com/github/Chanda92/Data-Science-Projects/blob/master/Heart_disease_prediction/Heart_disease__Prediction.ipynb\" target=\"_parent\"><img src=\"https://colab.research.google.com/assets/colab-badge.svg\" alt=\"Open In Colab\"/></a>"
      ]
    },
    {
      "cell_type": "code",
      "metadata": {
        "id": "3aJ5X_QCmeJ5",
        "colab_type": "code",
        "colab": {}
      },
      "source": [
        "import pandas as pd"
      ],
      "execution_count": null,
      "outputs": []
    },
    {
      "cell_type": "code",
      "metadata": {
        "id": "mkZ85jCXp_gN",
        "colab_type": "code",
        "colab": {
          "base_uri": "https://localhost:8080/",
          "height": 72
        },
        "outputId": "89ce03af-718c-43fb-9401-ec509a35eba7"
      },
      "source": [
        "#import dataset\n",
        "\n",
        "import os\n",
        "\n",
        "os.environ['KAGGLE_USERNAME'] = \"chandabakshi\" # username from the json file\n",
        "\n",
        "os.environ['KAGGLE_KEY'] = \"ff81813a84c08d29cf3330a9d2f8bc17\" # key from the json file\n",
        "\n",
        "!kaggle datasets download -d ronitf/heart-disease-uci # api copied from kaggle"
      ],
      "execution_count": null,
      "outputs": [
        {
          "output_type": "stream",
          "text": [
            "Downloading heart-disease-uci.zip to /content\n",
            "\r  0% 0.00/3.40k [00:00<?, ?B/s]\n",
            "\r100% 3.40k/3.40k [00:00<00:00, 1.29MB/s]\n"
          ],
          "name": "stdout"
        }
      ]
    },
    {
      "cell_type": "code",
      "metadata": {
        "id": "vc8Fvo5QqCir",
        "colab_type": "code",
        "colab": {
          "base_uri": "https://localhost:8080/",
          "height": 90
        },
        "outputId": "dabeba77-a64e-44cc-f19a-9e50ea20b6d6"
      },
      "source": [
        "# importing required modules \n",
        "from zipfile import ZipFile \n",
        "  \n",
        "# specifying the zip file name \n",
        "file_name = \"heart-disease-uci.zip\"\n",
        "  \n",
        "# opening the zip file in READ mode \n",
        "with ZipFile(file_name, 'r') as zip: \n",
        "    # printing all the contents of the zip file \n",
        "    zip.printdir() \n",
        "  \n",
        "    # extracting all the files \n",
        "    print('Extracting all the files now...') \n",
        "    zip.extractall() \n",
        "    print('Done!') "
      ],
      "execution_count": null,
      "outputs": [
        {
          "output_type": "stream",
          "text": [
            "File Name                                             Modified             Size\n",
            "heart.csv                                      2019-10-01 20:15:10        11328\n",
            "Extracting all the files now...\n",
            "Done!\n"
          ],
          "name": "stdout"
        }
      ]
    },
    {
      "cell_type": "code",
      "metadata": {
        "id": "0s9l9lZdWxfF",
        "colab_type": "code",
        "colab": {
          "base_uri": "https://localhost:8080/",
          "height": 35
        },
        "outputId": "a0145b1a-e2c3-4304-df25-bc3b8839c009"
      },
      "source": [
        "df = pd.read_csv(\"heart.csv\")\n",
        "df.shape"
      ],
      "execution_count": null,
      "outputs": [
        {
          "output_type": "execute_result",
          "data": {
            "text/plain": [
              "(303, 14)"
            ]
          },
          "metadata": {
            "tags": []
          },
          "execution_count": 4
        }
      ]
    },
    {
      "cell_type": "code",
      "metadata": {
        "id": "kSxjUjLwqMMd",
        "colab_type": "code",
        "colab": {
          "base_uri": "https://localhost:8080/",
          "height": 198
        },
        "outputId": "95bbb9e7-9fbf-489a-a6c4-66fbb158eb6e"
      },
      "source": [
        "df.head()"
      ],
      "execution_count": null,
      "outputs": [
        {
          "output_type": "execute_result",
          "data": {
            "text/html": [
              "<div>\n",
              "<style scoped>\n",
              "    .dataframe tbody tr th:only-of-type {\n",
              "        vertical-align: middle;\n",
              "    }\n",
              "\n",
              "    .dataframe tbody tr th {\n",
              "        vertical-align: top;\n",
              "    }\n",
              "\n",
              "    .dataframe thead th {\n",
              "        text-align: right;\n",
              "    }\n",
              "</style>\n",
              "<table border=\"1\" class=\"dataframe\">\n",
              "  <thead>\n",
              "    <tr style=\"text-align: right;\">\n",
              "      <th></th>\n",
              "      <th>age</th>\n",
              "      <th>sex</th>\n",
              "      <th>cp</th>\n",
              "      <th>trestbps</th>\n",
              "      <th>chol</th>\n",
              "      <th>fbs</th>\n",
              "      <th>restecg</th>\n",
              "      <th>thalach</th>\n",
              "      <th>exang</th>\n",
              "      <th>oldpeak</th>\n",
              "      <th>slope</th>\n",
              "      <th>ca</th>\n",
              "      <th>thal</th>\n",
              "      <th>target</th>\n",
              "    </tr>\n",
              "  </thead>\n",
              "  <tbody>\n",
              "    <tr>\n",
              "      <th>0</th>\n",
              "      <td>63</td>\n",
              "      <td>1</td>\n",
              "      <td>3</td>\n",
              "      <td>145</td>\n",
              "      <td>233</td>\n",
              "      <td>1</td>\n",
              "      <td>0</td>\n",
              "      <td>150</td>\n",
              "      <td>0</td>\n",
              "      <td>2.3</td>\n",
              "      <td>0</td>\n",
              "      <td>0</td>\n",
              "      <td>1</td>\n",
              "      <td>1</td>\n",
              "    </tr>\n",
              "    <tr>\n",
              "      <th>1</th>\n",
              "      <td>37</td>\n",
              "      <td>1</td>\n",
              "      <td>2</td>\n",
              "      <td>130</td>\n",
              "      <td>250</td>\n",
              "      <td>0</td>\n",
              "      <td>1</td>\n",
              "      <td>187</td>\n",
              "      <td>0</td>\n",
              "      <td>3.5</td>\n",
              "      <td>0</td>\n",
              "      <td>0</td>\n",
              "      <td>2</td>\n",
              "      <td>1</td>\n",
              "    </tr>\n",
              "    <tr>\n",
              "      <th>2</th>\n",
              "      <td>41</td>\n",
              "      <td>0</td>\n",
              "      <td>1</td>\n",
              "      <td>130</td>\n",
              "      <td>204</td>\n",
              "      <td>0</td>\n",
              "      <td>0</td>\n",
              "      <td>172</td>\n",
              "      <td>0</td>\n",
              "      <td>1.4</td>\n",
              "      <td>2</td>\n",
              "      <td>0</td>\n",
              "      <td>2</td>\n",
              "      <td>1</td>\n",
              "    </tr>\n",
              "    <tr>\n",
              "      <th>3</th>\n",
              "      <td>56</td>\n",
              "      <td>1</td>\n",
              "      <td>1</td>\n",
              "      <td>120</td>\n",
              "      <td>236</td>\n",
              "      <td>0</td>\n",
              "      <td>1</td>\n",
              "      <td>178</td>\n",
              "      <td>0</td>\n",
              "      <td>0.8</td>\n",
              "      <td>2</td>\n",
              "      <td>0</td>\n",
              "      <td>2</td>\n",
              "      <td>1</td>\n",
              "    </tr>\n",
              "    <tr>\n",
              "      <th>4</th>\n",
              "      <td>57</td>\n",
              "      <td>0</td>\n",
              "      <td>0</td>\n",
              "      <td>120</td>\n",
              "      <td>354</td>\n",
              "      <td>0</td>\n",
              "      <td>1</td>\n",
              "      <td>163</td>\n",
              "      <td>1</td>\n",
              "      <td>0.6</td>\n",
              "      <td>2</td>\n",
              "      <td>0</td>\n",
              "      <td>2</td>\n",
              "      <td>1</td>\n",
              "    </tr>\n",
              "  </tbody>\n",
              "</table>\n",
              "</div>"
            ],
            "text/plain": [
              "   age  sex  cp  trestbps  chol  fbs  ...  exang  oldpeak  slope  ca  thal  target\n",
              "0   63    1   3       145   233    1  ...      0      2.3      0   0     1       1\n",
              "1   37    1   2       130   250    0  ...      0      3.5      0   0     2       1\n",
              "2   41    0   1       130   204    0  ...      0      1.4      2   0     2       1\n",
              "3   56    1   1       120   236    0  ...      0      0.8      2   0     2       1\n",
              "4   57    0   0       120   354    0  ...      1      0.6      2   0     2       1\n",
              "\n",
              "[5 rows x 14 columns]"
            ]
          },
          "metadata": {
            "tags": []
          },
          "execution_count": 5
        }
      ]
    },
    {
      "cell_type": "code",
      "metadata": {
        "id": "IdU8-Eseq6FT",
        "colab_type": "code",
        "colab": {
          "base_uri": "https://localhost:8080/",
          "height": 35
        },
        "outputId": "73c5d570-93f1-4493-97c8-d1d38d29fbed"
      },
      "source": [
        "# Deal with Missing Data\n",
        "df.isnull().sum().any().sum()    # There is no missing values"
      ],
      "execution_count": null,
      "outputs": [
        {
          "output_type": "execute_result",
          "data": {
            "text/plain": [
              "0"
            ]
          },
          "metadata": {
            "tags": []
          },
          "execution_count": 6
        }
      ]
    },
    {
      "cell_type": "code",
      "metadata": {
        "id": "xS5KksV_qzfQ",
        "colab_type": "code",
        "colab": {
          "base_uri": "https://localhost:8080/",
          "height": 54
        },
        "outputId": "ee8d5afd-30ad-450a-b1ce-3346913f0202"
      },
      "source": [
        "healthy = df[df['target']== 0].count()[1]\n",
        "sick = df[df['target']== 1].count()[1]\n",
        "print(\" No Heart Problem\" ,healthy)\n",
        "print(\"Heart Problem\" ,sick)"
      ],
      "execution_count": null,
      "outputs": [
        {
          "output_type": "stream",
          "text": [
            " No Heart Problem 138\n",
            "Heart Problem 165\n"
          ],
          "name": "stdout"
        }
      ]
    },
    {
      "cell_type": "code",
      "metadata": {
        "id": "WQehMeifv39h",
        "colab_type": "code",
        "colab": {
          "base_uri": "https://localhost:8080/",
          "height": 54
        },
        "outputId": "a5b266ad-89be-436a-f294-947e2cb824f0"
      },
      "source": [
        "per_healthy = (healthy*100)/303\n",
        "per_sick = (sick*100)/303\n",
        "print(\"Percentage having no heart issues\" ,per_healthy)\n",
        "print(\"Percentage having heart issues\" ,per_sick)"
      ],
      "execution_count": null,
      "outputs": [
        {
          "output_type": "stream",
          "text": [
            "Percentage having no heart issues 45.54455445544554\n",
            "Percentage having heart issues 54.45544554455446\n"
          ],
          "name": "stdout"
        }
      ]
    },
    {
      "cell_type": "code",
      "metadata": {
        "id": "MBVidIZPwLu2",
        "colab_type": "code",
        "colab": {
          "base_uri": "https://localhost:8080/",
          "height": 248
        },
        "outputId": "0896c7a7-c4bc-4c20-dbf2-c8fa32f6fb28"
      },
      "source": [
        "\n",
        "from matplotlib import pyplot as plt\n",
        "# Plot\n",
        "percentage = [ per_healthy, per_sick]\n",
        "color = [\"yellow\", \"red\"]\n",
        "labels = [ \"No-Disease\", \"Disease\"]\n",
        "plt.pie(percentage, labels=labels, colors=color,\n",
        "autopct='%1.1f%%', shadow=True, startangle=140)\n",
        "plt.legend(loc= \"upper left\")\n",
        "plt.show()\n"
      ],
      "execution_count": null,
      "outputs": [
        {
          "output_type": "display_data",
          "data": {
            "image/png": "[encoded data removed]",
            "text/plain": [
              "<Figure size 432x288 with 1 Axes>"
            ]
          },
          "metadata": {
            "tags": []
          }
        }
      ]
    },
    {
      "cell_type": "code",
      "metadata": {
        "id": "old3pbhZ6mXT",
        "colab_type": "code",
        "colab": {
          "base_uri": "https://localhost:8080/",
          "height": 404
        },
        "outputId": "487ee774-5675-4685-cb25-56db61042d41"
      },
      "source": [
        "# Check the data how much sex having disease\n",
        "\n",
        "pd.crosstab(sick,df['sex']).plot(kind='bar', figsize=(8,6),color=['red','blue'])\n",
        "plt.xlabel(\"Patients having disease\")\n",
        "plt.ylabel(\"Frequency\")\n",
        "plt.title(\"Heart disease Frequency based on Gender\")\n",
        "plt.legend([\"Female\",\"Male\"])\n",
        "plt.xticks(rotation=0)\n",
        "plt.show()"
      ],
      "execution_count": null,
      "outputs": [
        {
          "output_type": "display_data",
          "data": {
            "image/png": "[encoded data removed]",
            "text/plain": [
              "<Figure size 576x432 with 1 Axes>"
            ]
          },
          "metadata": {
            "tags": [],
            "needs_background": "light"
          }
        }
      ]
    },
    {
      "cell_type": "code",
      "metadata": {
        "id": "S9tH4VWd7xGG",
        "colab_type": "code",
        "colab": {
          "base_uri": "https://localhost:8080/",
          "height": 404
        },
        "outputId": "34282acc-ce18-4c74-925e-8c7d549a8bc5"
      },
      "source": [
        "# thalach means maximum heart rate and here we determined the whom have the maximum heart rate according to age\n",
        "plt.figure(figsize=(10,6))\n",
        "plt.scatter(df.age[df.target == 1],df.thalach[df.target==1],c='red');\n",
        "plt.scatter(df.age[df.target==0],df.thalach[df.target==0],c='blue');\n",
        "plt.title('Heart disease in function of Age and Max Heart Rate')\n",
        "plt.xlabel(\"Age\")\n",
        "plt.ylabel(\"Maximum Heart Rate\")\n",
        "plt.legend(['Disease','No disease']);"
      ],
      "execution_count": null,
      "outputs": [
        {
          "output_type": "display_data",
          "data": {
            "image/png": "[encoded data removed]",
            "text/plain": [
              "<Figure size 720x432 with 1 Axes>"
            ]
          },
          "metadata": {
            "tags": [],
            "needs_background": "light"
          }
        }
      ]
    },
    {
      "cell_type": "code",
      "metadata": {
        "id": "womVBpS56els",
        "colab_type": "code",
        "colab": {
          "base_uri": "https://localhost:8080/",
          "height": 35
        },
        "outputId": "164876dc-1744-41c9-f4ca-5512da0915cb"
      },
      "source": [
        "numeric_columns = ['age','trestbps', 'chol', 'fbs', 'thalach', 'oldpeak']\n",
        "categorical_columns = [i for i in df.columns if i not in numeric_columns]\n",
        "print(categorical_columns)"
      ],
      "execution_count": null,
      "outputs": [
        {
          "output_type": "stream",
          "text": [
            "['sex', 'cp', 'restecg', 'exang', 'slope', 'ca', 'thal', 'target']\n"
          ],
          "name": "stdout"
        }
      ]
    },
    {
      "cell_type": "markdown",
      "metadata": {
        "id": "bBDTWNiY99Ri",
        "colab_type": "text"
      },
      "source": [
        "Through heatmap, I notice a negative correlation between 'age' and 'max_heart_rate(thalach)' whereas positive correlation between 'age' and 'blood_pressure', what is intuitive.\n",
        "\n",
        "Apart from this ,'age' and 'max_heart_rate(thalach)', will play an important role in predicting heart disease."
      ]
    },
    {
      "cell_type": "code",
      "metadata": {
        "id": "iJQ5O_kp73Qh",
        "colab_type": "code",
        "colab": {
          "base_uri": "https://localhost:8080/",
          "height": 435
        },
        "outputId": "972ca869-fd84-489e-f468-5853ed748387"
      },
      "source": [
        "import seaborn as sns\n",
        "# create a correlation heatmap\n",
        "sns.heatmap(df[numeric_columns].corr(),annot=True, cmap='terrain', linewidths=0.1)\n",
        "fig=plt.gcf()\n",
        "fig.set_size_inches(8,6)\n",
        "plt.show()"
      ],
      "execution_count": null,
      "outputs": [
        {
          "output_type": "stream",
          "text": [
            "/usr/local/lib/python3.6/dist-packages/statsmodels/tools/_testing.py:19: FutureWarning: pandas.util.testing is deprecated. Use the functions in the public API at pandas.testing instead.\n",
            "  import pandas.util.testing as tm\n"
          ],
          "name": "stderr"
        },
        {
          "output_type": "display_data",
          "data": {
            "image/png": "[encoded data removed]",
            "text/plain": [
              "<Figure size 576x432 with 2 Axes>"
            ]
          },
          "metadata": {
            "tags": [],
            "needs_background": "light"
          }
        }
      ]
    },
    {
      "cell_type": "code",
      "metadata": {
        "id": "MJ9dIWvQ9XUJ",
        "colab_type": "code",
        "colab": {
          "base_uri": "https://localhost:8080/",
          "height": 621
        },
        "outputId": "94f1d358-607c-477f-e437-586f7099cdbf"
      },
      "source": [
        "# create four distplots\n",
        "plt.figure(figsize=(12,10))\n",
        "plt.subplot(221)\n",
        "sns.distplot(df[df['target']==0].age)\n",
        "plt.title('Age of patients without heart disease')\n",
        "plt.subplot(222)\n",
        "sns.distplot(df[df['target']==1].age)\n",
        "plt.title('Age of patients with heart disease')\n",
        "plt.subplot(223)\n",
        "sns.distplot(df[df['target']==0].thalach)\n",
        "plt.title('Maximum heart rate of patients without heart disease')\n",
        "plt.subplot(224)\n",
        "sns.distplot(df[df['target']==1].thalach)\n",
        "plt.title('Maximum heart rate of patients with heart disease')\n",
        "plt.show()\n"
      ],
      "execution_count": null,
      "outputs": [
        {
          "output_type": "display_data",
          "data": {
            "image/png": "[encoded data removed]",
            "text/plain": [
              "<Figure size 864x720 with 4 Axes>"
            ]
          },
          "metadata": {
            "tags": [],
            "needs_background": "light"
          }
        }
      ]
    },
    {
      "cell_type": "markdown",
      "metadata": {
        "id": "g5GsNKVpAVTk",
        "colab_type": "text"
      },
      "source": [
        "#**Age distribution of healthy patients is much wider than ill people. The latter are at the highest risk in their sixties. Max heart rate distribution does not differ as much, but the risk is on the peaks when max_heart_rate value is between 150 and 175. Higher values are more common for well patients.**"
      ]
    },
    {
      "cell_type": "code",
      "metadata": {
        "id": "KQOxYiOb_-W3",
        "colab_type": "code",
        "colab": {
          "base_uri": "https://localhost:8080/",
          "height": 388
        },
        "outputId": "e7f36467-791a-433a-a255-071bbfb116eb"
      },
      "source": [
        "# create pairplot and two barplots\n",
        "plt.figure(figsize=(16,6))\n",
        "#plt.subplot(131)\n",
        "#sns.plot(x=\"sex\", y=\"target\", hue='cp', data=df)\n",
        "#plt.legend(['1 = Male', '0 = Female'])\n",
        "plt.subplot(132)\n",
        "sns.barplot(x=\"exang\", y=\"target\", data=df)\n",
        "plt.legend(['yes = 1', 'no = 0'])\n",
        "plt.subplot(133)\n",
        "sns.countplot(x=\"slope\", hue='target', data=df)\n",
        "plt.show()"
      ],
      "execution_count": null,
      "outputs": [
        {
          "output_type": "display_data",
          "data": {
            "image/png": "[encoded data removed]",
            "text/plain": [
              "<Figure size 1152x432 with 2 Axes>"
            ]
          },
          "metadata": {
            "tags": [],
            "needs_background": "light"
          }
        }
      ]
    },
    {
      "cell_type": "markdown",
      "metadata": {
        "id": "PNPYyoupD5Xr",
        "colab_type": "text"
      },
      "source": [
        "**Observations**:\n",
        "1) Men are much more effective to get a heart disease as compared to women.\n",
        "\n",
        "2) The higher number of vessels detected through fluoroscopy, the higher risk of disease.\n",
        "\n",
        "3) While soft chest pain may be a bad symptoms of approaching problems with heart (especially in case of men), strong pain is a serious warning!\n",
        "\n",
        "4) Risk of getting heart disease might be even 3x higher for someone who experienced exercise-induced angina.\n",
        "\n",
        "5) The flat slope (value=2) and downslope (value=3) of the peak exercise indicates a high risk of getting disease"
      ]
    },
    {
      "cell_type": "code",
      "metadata": {
        "id": "EeMFOhyvDXM7",
        "colab_type": "code",
        "colab": {
          "base_uri": "https://localhost:8080/",
          "height": 54
        },
        "outputId": "acc52bd5-4c80-4677-cda9-33d5a4beb355"
      },
      "source": [
        "# create training and testing vars\n",
        "from sklearn.model_selection import train_test_split\n",
        "train, test = train_test_split(df, test_size=0.2)\n",
        "print(train.shape)\n",
        "print(test.shape)"
      ],
      "execution_count": null,
      "outputs": [
        {
          "output_type": "stream",
          "text": [
            "(242, 14)\n",
            "(61, 14)\n"
          ],
          "name": "stdout"
        }
      ]
    },
    {
      "cell_type": "code",
      "metadata": {
        "id": "xN_G5Pf0HpNO",
        "colab_type": "code",
        "colab": {
          "base_uri": "https://localhost:8080/",
          "height": 35
        },
        "outputId": "68136bfb-0dde-4d85-f7e1-c598e5913b68"
      },
      "source": [
        "train.isnull().sum().any().sum()\n",
        "test.isnull().sum().any().sum()"
      ],
      "execution_count": null,
      "outputs": [
        {
          "output_type": "execute_result",
          "data": {
            "text/plain": [
              "0"
            ]
          },
          "metadata": {
            "tags": []
          },
          "execution_count": 17
        }
      ]
    },
    {
      "cell_type": "markdown",
      "metadata": {
        "id": "iJaQ-VXoo9qk",
        "colab_type": "text"
      },
      "source": [
        "#**Data Processing**"
      ]
    },
    {
      "cell_type": "code",
      "metadata": {
        "id": "FffYu2c5_WsD",
        "colab_type": "code",
        "colab": {
          "base_uri": "https://localhost:8080/",
          "height": 235
        },
        "outputId": "dfb194b0-3eba-4474-a094-ed2317e40842"
      },
      "source": [
        "# creating a new feature named as \"origin\" \n",
        "\n",
        "train['origin'] = 0\n",
        "test['origin'] = 1\n",
        "train_data =train.drop(['target'],axis=1) # Dropping the target variable\n",
        "test_data =test.drop(['target'],axis=1) # Dropping the target variable"
      ],
      "execution_count": null,
      "outputs": [
        {
          "output_type": "stream",
          "text": [
            "/usr/local/lib/python3.6/dist-packages/ipykernel_launcher.py:3: SettingWithCopyWarning: \n",
            "A value is trying to be set on a copy of a slice from a DataFrame.\n",
            "Try using .loc[row_indexer,col_indexer] = value instead\n",
            "\n",
            "See the caveats in the documentation: https://pandas.pydata.org/pandas-docs/stable/user_guide/indexing.html#returning-a-view-versus-a-copy\n",
            "  This is separate from the ipykernel package so we can avoid doing imports until\n",
            "/usr/local/lib/python3.6/dist-packages/ipykernel_launcher.py:4: SettingWithCopyWarning: \n",
            "A value is trying to be set on a copy of a slice from a DataFrame.\n",
            "Try using .loc[row_indexer,col_indexer] = value instead\n",
            "\n",
            "See the caveats in the documentation: https://pandas.pydata.org/pandas-docs/stable/user_guide/indexing.html#returning-a-view-versus-a-copy\n",
            "  after removing the cwd from sys.path.\n"
          ],
          "name": "stderr"
        }
      ]
    },
    {
      "cell_type": "code",
      "metadata": {
        "id": "qUby5cVSGc4G",
        "colab_type": "code",
        "colab": {}
      },
      "source": [
        "## Random sample from training and test data\n",
        "training = train_data.sample(242, random_state=12)\n",
        "testing = test_data.sample(61, random_state=11)"
      ],
      "execution_count": null,
      "outputs": []
    },
    {
      "cell_type": "code",
      "metadata": {
        "id": "P2GKkfnxZ5lZ",
        "colab_type": "code",
        "colab": {
          "base_uri": "https://localhost:8080/",
          "height": 272
        },
        "outputId": "1d553fa6-65ed-44e6-ff74-07ee152e5482"
      },
      "source": [
        "combi.isnull().sum().any()\n",
        "print(combi)"
      ],
      "execution_count": null,
      "outputs": [
        {
          "output_type": "stream",
          "text": [
            "     age  sex  cp  trestbps  chol  ...  exang  oldpeak  slope  ca  thal\n",
            "14    58    0   3       150   283  ...      0      1.0      2   0     2\n",
            "79    58    1   2       105   240  ...      1      0.6      1   0     3\n",
            "4     57    0   0       120   354  ...      1      0.6      2   0     2\n",
            "175   40    1   0       110   167  ...      1      2.0      1   0     3\n",
            "159   56    1   1       130   221  ...      0      0.0      2   0     3\n",
            "..   ...  ...  ..       ...   ...  ...    ...      ...    ...  ..   ...\n",
            "265   66    1   0       112   212  ...      1      0.1      2   1     2\n",
            "230   47    1   2       108   243  ...      0      0.0      2   0     2\n",
            "259   38    1   3       120   231  ...      1      3.8      1   0     3\n",
            "10    54    1   0       140   239  ...      0      1.2      2   0     2\n",
            "273   58    1   0       100   234  ...      0      0.1      2   1     3\n",
            "\n",
            "[303 rows x 13 columns]\n"
          ],
          "name": "stdout"
        }
      ]
    },
    {
      "cell_type": "code",
      "metadata": {
        "id": "3U7-D-P8JVgr",
        "colab_type": "code",
        "colab": {}
      },
      "source": [
        "## combining random samples\n",
        "combi = training.append(testing)\n",
        "y = combi['origin']\n",
        "combi.drop('origin',axis=1,inplace=True)  # Dropping the new field \"origin\" from merging data"
      ],
      "execution_count": null,
      "outputs": []
    },
    {
      "cell_type": "code",
      "metadata": {
        "id": "pN-rNJIlHXSy",
        "colab_type": "code",
        "colab": {
          "base_uri": "https://localhost:8080/",
          "height": 35
        },
        "outputId": "964f599d-bbf4-4e33-d4f2-19cd1a989bd8"
      },
      "source": [
        "# Handling missing data\n",
        "import numpy as np\n",
        "for i in combi.columns:\n",
        "    if(combi[i].dtype == 'object'):\n",
        "      combi[i] = combi[i].fillna(combi[i].mode().iloc[0])\n",
        "    if((combi[i].dtype == 'int') or (combi[i].dtype == 'float')):\n",
        "      combi[i] = combi[i].fillna(np.mean(combi[i]))\n",
        "\n",
        "print('Nulls in combined set:', combi.isnull().sum().sum())"
      ],
      "execution_count": null,
      "outputs": [
        {
          "output_type": "stream",
          "text": [
            "Nulls in combined set: 0\n"
          ],
          "name": "stdout"
        }
      ]
    },
    {
      "cell_type": "code",
      "metadata": {
        "id": "geda6fUGHi8_",
        "colab_type": "code",
        "colab": {
          "base_uri": "https://localhost:8080/",
          "height": 272
        },
        "outputId": "ec2ec9df-acbb-4280-bd26-6bf5ad0feff4"
      },
      "source": [
        "print(combi)"
      ],
      "execution_count": null,
      "outputs": [
        {
          "output_type": "stream",
          "text": [
            "     age  sex  cp  trestbps  chol  ...  exang  oldpeak  slope  ca  thal\n",
            "14    58    0   3       150   283  ...      0      1.0      2   0     2\n",
            "79    58    1   2       105   240  ...      1      0.6      1   0     3\n",
            "4     57    0   0       120   354  ...      1      0.6      2   0     2\n",
            "175   40    1   0       110   167  ...      1      2.0      1   0     3\n",
            "159   56    1   1       130   221  ...      0      0.0      2   0     3\n",
            "..   ...  ...  ..       ...   ...  ...    ...      ...    ...  ..   ...\n",
            "265   66    1   0       112   212  ...      1      0.1      2   1     2\n",
            "230   47    1   2       108   243  ...      0      0.0      2   0     2\n",
            "259   38    1   3       120   231  ...      1      3.8      1   0     3\n",
            "10    54    1   0       140   239  ...      0      1.2      2   0     2\n",
            "273   58    1   0       100   234  ...      0      0.1      2   1     3\n",
            "\n",
            "[303 rows x 13 columns]\n"
          ],
          "name": "stdout"
        }
      ]
    },
    {
      "cell_type": "code",
      "metadata": {
        "id": "E-zE3Fk4ASsd",
        "colab_type": "code",
        "colab": {}
      },
      "source": [
        "## modelling\n",
        "import numpy as np\n",
        "from sklearn.model_selection import cross_val_score\n",
        "from pandas import Series, DataFrame\n",
        "from sklearn.ensemble import RandomForestRegressor\n",
        "from sklearn.ensemble import RandomForestClassifier\n",
        "model = RandomForestClassifier(n_estimators = 50, max_depth = 5,min_samples_leaf = 5)\n",
        "drop_list = []\n",
        "for i in combi.columns:  # identify the features acquired more than 0.8 roc-auc score \n",
        "    score = cross_val_score(model,pd.DataFrame(combi[i]),y,cv=5,scoring='roc_auc')\n",
        "    if (np.mean(score) > 0.8):\n",
        "        drop_list.append(i)\n",
        "        print(i,np.mean(score))"
      ],
      "execution_count": null,
      "outputs": []
    },
    {
      "cell_type": "markdown",
      "metadata": {
        "id": "1oTyfvjbI_OJ",
        "colab_type": "text"
      },
      "source": [
        "#**There is no Covariate Shift available in dataset. So, we go further for accuracy check**"
      ]
    },
    {
      "cell_type": "code",
      "metadata": {
        "id": "lOGlR306Mukx",
        "colab_type": "code",
        "colab": {
          "base_uri": "https://localhost:8080/",
          "height": 90
        },
        "outputId": "051474d9-fdc3-4b44-88a8-dc5fcbe5808c"
      },
      "source": [
        "from sklearn.model_selection import train_test_split\n",
        "# create training and testing vars\n",
        "y = df['target']\n",
        "x_train, x_test, y_train, y_test = train_test_split(df, y, test_size=0.2)\n",
        "print(x_train.shape, y_train.shape)\n",
        "print(x_test.shape, y_test.shape)"
      ],
      "execution_count": null,
      "outputs": [
        {
          "output_type": "stream",
          "text": [
            "(242, 14) (242,)\n",
            "(61, 14) (61,)\n",
            "(242, 14) (242,)\n",
            "(61, 14) (61,)\n"
          ],
          "name": "stdout"
        }
      ]
    },
    {
      "cell_type": "code",
      "metadata": {
        "id": "7w7SLtf7Ozt_",
        "colab_type": "code",
        "colab": {}
      },
      "source": [
        "#Feature Scaling\n",
        "from sklearn.preprocessing import StandardScaler\n",
        "scaler = StandardScaler()\n",
        "scaler.fit(x_train)\n",
        "x_train = scaler.transform(x_train)\n",
        "x_test = scaler.transform(x_test)"
      ],
      "execution_count": null,
      "outputs": []
    },
    {
      "cell_type": "markdown",
      "metadata": {
        "id": "mQkapyKpQ6el",
        "colab_type": "text"
      },
      "source": [
        "**# Apply KNN Classifier**"
      ]
    },
    {
      "cell_type": "code",
      "metadata": {
        "id": "dda1Q-eqPINR",
        "colab_type": "code",
        "colab": {
          "base_uri": "https://localhost:8080/",
          "height": 72
        },
        "outputId": "15f228b7-01de-443c-ee20-ff77fd300d82"
      },
      "source": [
        "from sklearn.neighbors import KNeighborsClassifier\n",
        "classifier = KNeighborsClassifier(n_neighbors = 8)\n",
        "classifier.fit(x_train, y_train)"
      ],
      "execution_count": null,
      "outputs": [
        {
          "output_type": "execute_result",
          "data": {
            "text/plain": [
              "KNeighborsClassifier(algorithm='auto', leaf_size=30, metric='minkowski',\n",
              "                     metric_params=None, n_jobs=None, n_neighbors=8, p=2,\n",
              "                     weights='uniform')"
            ]
          },
          "metadata": {
            "tags": []
          },
          "execution_count": 37
        }
      ]
    },
    {
      "cell_type": "code",
      "metadata": {
        "id": "sGwbqZtVQlfK",
        "colab_type": "code",
        "colab": {}
      },
      "source": [
        "y_pred = classifier.predict(x_test)"
      ],
      "execution_count": null,
      "outputs": []
    },
    {
      "cell_type": "code",
      "metadata": {
        "id": "STujVhYqQtmO",
        "colab_type": "code",
        "colab": {
          "base_uri": "https://localhost:8080/",
          "height": 272
        },
        "outputId": "7ab468ba-fe35-4a7e-ec18-8191a46c47e2"
      },
      "source": [
        "from sklearn.metrics import classification_report, confusion_matrix, accuracy_score\n",
        "result = confusion_matrix(y_test, y_pred)\n",
        "print(\"Confusion Matrix:\")\n",
        "print(result)\n",
        "result1 = classification_report(y_test, y_pred)\n",
        "print(\"Classification Report:\",)\n",
        "print (result1)\n",
        "result2 = accuracy_score(y_test,y_pred)\n",
        "print(\"Accuracy:\",result2)"
      ],
      "execution_count": null,
      "outputs": [
        {
          "output_type": "stream",
          "text": [
            "Confusion Matrix:\n",
            "[[32  2]\n",
            " [ 1 26]]\n",
            "Classification Report:\n",
            "              precision    recall  f1-score   support\n",
            "\n",
            "           0       0.97      0.94      0.96        34\n",
            "           1       0.93      0.96      0.95        27\n",
            "\n",
            "    accuracy                           0.95        61\n",
            "   macro avg       0.95      0.95      0.95        61\n",
            "weighted avg       0.95      0.95      0.95        61\n",
            "\n",
            "Accuracy: 0.9508196721311475\n"
          ],
          "name": "stdout"
        }
      ]
    },
    {
      "cell_type": "code",
      "metadata": {
        "id": "AHiceDoVQyrZ",
        "colab_type": "code",
        "colab": {}
      },
      "source": [
        ""
      ],
      "execution_count": null,
      "outputs": []
    }
  ]
}